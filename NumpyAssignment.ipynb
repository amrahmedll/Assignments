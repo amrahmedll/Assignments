{
  "nbformat": 4,
  "nbformat_minor": 0,
  "metadata": {
    "colab": {
      "provenance": [],
      "authorship_tag": "ABX9TyNaq4nHADAukY/lIcY5xGrG",
      "include_colab_link": true
    },
    "kernelspec": {
      "name": "python3",
      "display_name": "Python 3"
    },
    "language_info": {
      "name": "python"
    }
  },
  "cells": [
    {
      "cell_type": "markdown",
      "metadata": {
        "id": "view-in-github",
        "colab_type": "text"
      },
      "source": [
        "<a href=\"https://colab.research.google.com/github/imnotamr/Assignments/blob/main/NumpyAssignment.ipynb\" target=\"_parent\"><img src=\"https://colab.research.google.com/assets/colab-badge.svg\" alt=\"Open In Colab\"/></a>"
      ]
    },
    {
      "cell_type": "code",
      "source": [
        "!pip install numpy"
      ],
      "metadata": {
        "colab": {
          "base_uri": "https://localhost:8080/"
        },
        "id": "YRQRlr3BJX0g",
        "outputId": "5613ca3d-08af-4319-bf23-d391ed0d2064"
      },
      "execution_count": 2,
      "outputs": [
        {
          "output_type": "stream",
          "name": "stdout",
          "text": [
            "Requirement already satisfied: numpy in /usr/local/lib/python3.10/dist-packages (1.25.2)\n"
          ]
        }
      ]
    },
    {
      "cell_type": "code",
      "source": [
        "import numpy as np"
      ],
      "metadata": {
        "id": "UCgREdTrJa9j"
      },
      "execution_count": 3,
      "outputs": []
    },
    {
      "cell_type": "code",
      "execution_count": 5,
      "metadata": {
        "colab": {
          "base_uri": "https://localhost:8080/"
        },
        "id": "gAGn_23zHZHV",
        "outputId": "e6728072-7d0d-48b0-b911-3b74b182fe83"
      },
      "outputs": [
        {
          "output_type": "stream",
          "name": "stdout",
          "text": [
            "[[19  3 17]\n",
            " [ 5  4 19]\n",
            " [ 6  9 16]]\n"
          ]
        }
      ],
      "source": [
        "#1. Create a 2D Numpy array with shape (3, 3) containing random integers between 1 and 20.\n",
        "\n",
        "ar= np.random.randint(low = 1, high = 20, size = (3,3))\n",
        "print(ar)"
      ]
    },
    {
      "cell_type": "code",
      "source": [
        "#2. Write a NumPy program to create a 5x5 array with random values and find the minimum and maximum values for each row\n",
        "\n",
        "ar = np.random.randint(low = 1, high = 30, size = (5,5))\n",
        "print(\"original array\\n\",ar)\n",
        "print(\"max\",ar.max(axis = 1))\n",
        "print(\"min\",ar.min(axis = 1))"
      ],
      "metadata": {
        "colab": {
          "base_uri": "https://localhost:8080/"
        },
        "id": "9YrIBzMvJdon",
        "outputId": "fb3aecb1-8374-45d9-ef52-d3af25bc6ff7"
      },
      "execution_count": 14,
      "outputs": [
        {
          "output_type": "stream",
          "name": "stdout",
          "text": [
            "original array\n",
            " [[18 17 13 10  2]\n",
            " [13  4 24 19 36]\n",
            " [27  4 22 13  4]\n",
            " [ 6 34 23 10  4]\n",
            " [36 36 36  1 11]]\n",
            "max [18 36 27 34 36]\n",
            "min [2 4 4 4 1]\n"
          ]
        }
      ]
    },
    {
      "cell_type": "code",
      "source": [
        "#3. Write a NumPy program to create a random vector of size 10 and sort it.\n",
        "\n",
        "ar = np.random.random(10)\n",
        "print(\"original array\\n\",ar)\n",
        "print(\"sorted array\\n\",np.sort(ar))\n"
      ],
      "metadata": {
        "colab": {
          "base_uri": "https://localhost:8080/"
        },
        "id": "ravPpoueKOnQ",
        "outputId": "ff37443b-dd52-43e6-a864-5d1420d63cdc"
      },
      "execution_count": 18,
      "outputs": [
        {
          "output_type": "stream",
          "name": "stdout",
          "text": [
            "original array\n",
            " [0.48554233 0.75140336 0.08033891 0.060225   0.03791139 0.91314444\n",
            " 0.26936208 0.51491263 0.85597066 0.3814899 ]\n",
            "sorted array\n",
            " [0.03791139 0.060225   0.08033891 0.26936208 0.3814899  0.48554233\n",
            " 0.51491263 0.75140336 0.85597066 0.91314444]\n"
          ]
        }
      ]
    },
    {
      "cell_type": "code",
      "source": [
        "#4. Write a NumPy program to find the most frequent value in an array.\n",
        "ar = np.random.randint(low=20 , high=50 , size=15)\n",
        "frequency_dict = {}\n",
        "\n",
        "for value in ar:\n",
        "    if value in frequency_dict:\n",
        "        frequency_dict[value] += 1\n",
        "    else:\n",
        "        frequency_dict[value] = 1\n",
        "\n",
        "most_frequent_value = max(frequency_dict, key=frequency_dict.get)\n",
        "print (ar)\n",
        "print(\"most frequent value: \",most_frequent_value)\n",
        "\n"
      ],
      "metadata": {
        "colab": {
          "base_uri": "https://localhost:8080/"
        },
        "id": "TToruRqFT7Bf",
        "outputId": "9cac893d-1603-42d8-a102-26dd08f3b6ac"
      },
      "execution_count": 33,
      "outputs": [
        {
          "output_type": "stream",
          "name": "stdout",
          "text": [
            "[26 24 30 33 45 33 30 39 25 46 35 21 29 48 37]\n",
            "most frequent value:  30\n"
          ]
        }
      ]
    },
    {
      "cell_type": "code",
      "source": [
        "#5. Replace all even numbers in the 2D array with 0.\n",
        "arr = np.array([[1,2,3],[4,5,6]])\n",
        "print(\"original array\\n\",arr)\n",
        "arr[arr % 2 == 0] = 0\n",
        "print(\"after replace\\n\",arr)"
      ],
      "metadata": {
        "colab": {
          "base_uri": "https://localhost:8080/"
        },
        "id": "bUEG07QAUmr_",
        "outputId": "64c07b80-ac11-4506-f084-6f5b05015309"
      },
      "execution_count": 46,
      "outputs": [
        {
          "output_type": "stream",
          "name": "stdout",
          "text": [
            "original array\n",
            " [[1 2 3]\n",
            " [4 5 6]]\n",
            "after replace\n",
            " [[1 0 3]\n",
            " [0 5 0]]\n"
          ]
        }
      ]
    },
    {
      "cell_type": "code",
      "source": [
        "#6. Apply the square root function to each element of the 1D array.\n",
        "ar = np.array([1,16,100,4,49])\n",
        "print(\"original array\\n\",ar)\n",
        "print(\"square root of array\",np.sqrt(ar))"
      ],
      "metadata": {
        "colab": {
          "base_uri": "https://localhost:8080/"
        },
        "id": "ZZ9IIO5lZqyi",
        "outputId": "93fcecc2-0e5f-4284-de2e-be63076361a2"
      },
      "execution_count": 52,
      "outputs": [
        {
          "output_type": "stream",
          "name": "stdout",
          "text": [
            "original array\n",
            " [  1  16 100   4  49]\n",
            "square root of array [ 1.  4. 10.  2.  7.]\n"
          ]
        }
      ]
    },
    {
      "cell_type": "code",
      "source": [
        "arr = np.random.random((3,3))\n",
        "print(arr)\n",
        "mean = arr.mean()\n",
        "print(mean)\n"
      ],
      "metadata": {
        "colab": {
          "base_uri": "https://localhost:8080/"
        },
        "id": "Cy8mWqS8dsyK",
        "outputId": "a174da07-d381-44f4-8d43-8409a4c31e31"
      },
      "execution_count": 57,
      "outputs": [
        {
          "output_type": "stream",
          "name": "stdout",
          "text": [
            "[[0.62141505 0.41798417 0.07345925]\n",
            " [0.82412578 0.78922467 0.54867628]\n",
            " [0.67280076 0.40497797 0.41703354]]\n",
            "0.5299663848454451\n"
          ]
        }
      ]
    },
    {
      "cell_type": "code",
      "source": [
        "#7. Write a NumPy program to create a 3x3 array with random values and subtract the mean of each row from each element.\n",
        "arr = np.random.random((3,3))\n",
        "print(\"original array\\n\",arr)\n",
        "print(\"mean of each row\\n\",arr.mean(axis = 1))\n",
        "new_arr = arr - arr.mean(axis = 1)\n",
        "print(\"subtracted array\\n\",new_arr)"
      ],
      "metadata": {
        "colab": {
          "base_uri": "https://localhost:8080/"
        },
        "id": "uE2XZVH2eQsZ",
        "outputId": "795df64c-8b8c-4645-98d6-9c47640e8b62"
      },
      "execution_count": 60,
      "outputs": [
        {
          "output_type": "stream",
          "name": "stdout",
          "text": [
            "original array\n",
            " [[0.98422159 0.23961125 0.27005625]\n",
            " [0.52908329 0.81704976 0.01603568]\n",
            " [0.82701821 0.21809471 0.05651543]]\n",
            "mean of each row\n",
            " [0.49796303 0.45405624 0.36720945]\n",
            "subtracted array\n",
            " [[ 0.48625856 -0.21444499 -0.0971532 ]\n",
            " [ 0.03112026  0.36299351 -0.35117377]\n",
            " [ 0.32905518 -0.23596153 -0.31069402]]\n"
          ]
        }
      ]
    },
    {
      "cell_type": "code",
      "source": [
        "#8. Create a 1D array containing the first 20 odd numbers.\n",
        "arr = np.arange(1,40,1)\n",
        "print(arr,\"\\n\")\n",
        "odd_arr = arr[arr % 2 != 0]\n",
        "print(\"the odd numbers\",odd_arr)\n"
      ],
      "metadata": {
        "colab": {
          "base_uri": "https://localhost:8080/"
        },
        "id": "4I7dA4DWfGzl",
        "outputId": "69392b5e-6c24-4d9f-c013-a16d91bb203f"
      },
      "execution_count": 77,
      "outputs": [
        {
          "output_type": "stream",
          "name": "stdout",
          "text": [
            "[ 1  2  3  4  5  6  7  8  9 10 11 12 13 14 15 16 17 18 19 20 21 22 23 24\n",
            " 25 26 27 28 29 30 31 32 33 34 35 36 37 38 39] \n",
            "\n",
            "the odd numbers [ 1  3  5  7  9 11 13 15 17 19 21 23 25 27 29 31 33 35 37 39]\n"
          ]
        }
      ]
    },
    {
      "cell_type": "code",
      "source": [
        "#9. Write a NumPy program to create a 5x5 array with random values and find the second-largest value in each column.\n",
        "arr = np.random.random((5, 5))\n",
        "print(\"original array\\n \",arr)\n",
        "\n",
        "sorted_arr = np.sort(arr, axis=0)\n",
        "print(\"Sorted array\\n\",sorted_arr)\n",
        "\n",
        "seclarval_arr = sorted_arr[-2, ::]\n",
        "print(\"second largest values\\n\",seclarval_arr)"
      ],
      "metadata": {
        "colab": {
          "base_uri": "https://localhost:8080/"
        },
        "id": "_p4_oiDXffeN",
        "outputId": "c5194550-4564-4dba-dc30-48cb3cb3237e"
      },
      "execution_count": 90,
      "outputs": [
        {
          "output_type": "stream",
          "name": "stdout",
          "text": [
            "original array\n",
            "  [[0.58349154 0.04966181 0.21837106 0.77812413 0.19691998]\n",
            " [0.51274776 0.24267944 0.03219948 0.00155586 0.65498568]\n",
            " [0.43174756 0.24845025 0.61066948 0.49227432 0.29480239]\n",
            " [0.75963059 0.80696602 0.82555252 0.4082628  0.73929034]\n",
            " [0.42824377 0.89794296 0.60003328 0.17526609 0.92952193]]\n",
            "Sorted array\n",
            " [[0.42824377 0.04966181 0.03219948 0.00155586 0.19691998]\n",
            " [0.43174756 0.24267944 0.21837106 0.17526609 0.29480239]\n",
            " [0.51274776 0.24845025 0.60003328 0.4082628  0.65498568]\n",
            " [0.58349154 0.80696602 0.61066948 0.49227432 0.73929034]\n",
            " [0.75963059 0.89794296 0.82555252 0.77812413 0.92952193]]\n",
            "second largest values\n",
            " [0.58349154 0.80696602 0.61066948 0.49227432 0.73929034]\n"
          ]
        }
      ]
    },
    {
      "cell_type": "code",
      "source": [
        "#[I used the randint just to check the answer easily :) ]10. Write a NumPy program to create a 4x4 array with random values and find the sum of each row.\n",
        "\n",
        "arr = np.random.randint(low = 1, high = 10, size = (4,4))\n",
        "print(arr)\n",
        "sum_arr = np.sum(arr , axis = 1)\n",
        "print(\"the sum\\n\",sum_arr)"
      ],
      "metadata": {
        "colab": {
          "base_uri": "https://localhost:8080/"
        },
        "id": "HR3fF3XGf2t1",
        "outputId": "ebc28188-dffd-4b49-c392-c828d974ebb0"
      },
      "execution_count": 95,
      "outputs": [
        {
          "output_type": "stream",
          "name": "stdout",
          "text": [
            "[[5 1 9 7]\n",
            " [5 9 2 2]\n",
            " [7 9 2 9]\n",
            " [7 7 6 7]]\n",
            "the sum\n",
            " [22 18 27 27]\n"
          ]
        }
      ]
    },
    {
      "cell_type": "code",
      "source": [],
      "metadata": {
        "id": "DyuC-lffhttj"
      },
      "execution_count": null,
      "outputs": []
    }
  ]
}