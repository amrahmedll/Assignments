{
 "cells": [
  {
   "cell_type": "code",
   "execution_count": 4,
   "id": "84f0e2fb",
   "metadata": {},
   "outputs": [],
   "source": [
    "#1. Write a program that ask user to enter input (text or number or number with text.\n",
    "\n",
    "def func_input(user_input):\n",
    "    if user_input.isdigit():\n",
    "        digit_sum = 0\n",
    "        for char in user_input:\n",
    "            digit_sum += int(char)\n",
    "        return f\"the sum of the digitis you entered: {digit_sum}\"\n",
    "    elif user_input.isalpha():\n",
    "        return f\"the removed-space text you entered: {user_input.replace(' ', '')}\"\n",
    "    else:\n",
    "        digits = ''\n",
    "        letters = ''\n",
    "        for char in user_input:\n",
    "            if char.isdigit():\n",
    "                digits += char\n",
    "            elif char.isalpha():\n",
    "                letters += char\n",
    "        return f\"digits: {digits}, letters: {letters}\"\n",
    "\n"
   ]
  },
  {
   "cell_type": "code",
   "execution_count": 8,
   "id": "8e53667b",
   "metadata": {},
   "outputs": [
    {
     "name": "stdout",
     "output_type": "stream",
     "text": [
      "enter an input text, number, or number with text: amr1234\n",
      "digits: 1234, letters: amr\n"
     ]
    }
   ],
   "source": [
    "user_input = input(\"enter an input text, number, or number with text: \")\n",
    "print(func_input(user_input))"
   ]
  },
  {
   "cell_type": "code",
   "execution_count": 18,
   "id": "34f2d66f",
   "metadata": {},
   "outputs": [],
   "source": [
    "#2. Write a function which accept a string as argument and display total number of words\n",
    "\n",
    "def count_words(input_string):\n",
    "    words = input_string.split()\n",
    "    num_words = len(words)\n",
    "    print(f\"total number of words you entered: {num_words}\")"
   ]
  },
  {
   "cell_type": "code",
   "execution_count": 20,
   "id": "7dbf3667",
   "metadata": {},
   "outputs": [
    {
     "name": "stdout",
     "output_type": "stream",
     "text": [
      "enter a string: amr ahmed abdelrehem\n",
      "Total number of words: 3\n"
     ]
    }
   ],
   "source": [
    "input_string = input(\"enter a string: \")\n",
    "count_words(input_string)"
   ]
  },
  {
   "cell_type": "code",
   "execution_count": 21,
   "id": "9a261d99",
   "metadata": {},
   "outputs": [],
   "source": [
    "#3. Write function pow() that calculates the power, which takes base and exponent as arguments.\n",
    "\n",
    "def pow(base, exponent):\n",
    "    return base ** exponent"
   ]
  },
  {
   "cell_type": "code",
   "execution_count": 22,
   "id": "1f43724f",
   "metadata": {},
   "outputs": [
    {
     "name": "stdout",
     "output_type": "stream",
     "text": [
      "enter the base: 2\n",
      "enter the exponent: 2\n",
      "2.0 to the power of 2 is: 4.0\n"
     ]
    }
   ],
   "source": [
    "base = float(input(\"enter the base: \"))\n",
    "exponent = int(input(\"enter the exponent: \"))\n",
    "print(f\"{base} to the power of {exponent} is: {pow(base, exponent)}\")"
   ]
  },
  {
   "cell_type": "code",
   "execution_count": 23,
   "id": "fc1a1501",
   "metadata": {},
   "outputs": [],
   "source": [
    "# (circle,square,rectangle and triangle is used for the question) .\n",
    "#4. Write function area() that calculates the area of the shape.\n",
    "\n",
    "def area(shape, dimension1, dimension2=0):\n",
    "    if shape == 'circle':\n",
    "        return 3.14 * dimension1 ** 2\n",
    "    elif shape == 'square':\n",
    "        return dimension1 ** 2\n",
    "    elif shape == 'rectangle':\n",
    "        return dimension1 * dimension2\n",
    "    elif shape == 'triangle':\n",
    "        return 0.5 * dimension1 * dimension2\n",
    "    else:\n",
    "        return \"Unknown shape\""
   ]
  },
  {
   "cell_type": "code",
   "execution_count": 26,
   "id": "201cb669",
   "metadata": {},
   "outputs": [
    {
     "name": "stdout",
     "output_type": "stream",
     "text": [
      "enter the shape you want(small letters only): rectangle\n",
      "enter the length: 10\n",
      "enter the width: 50\n",
      "the area of the rectangle is: 500.0\n"
     ]
    }
   ],
   "source": [
    "shape = input(\"enter the shape you want(small letters only): \")\n",
    "if shape == 'circle':\n",
    "    radius = float(input(\"enter the radius: \"))\n",
    "    print(f\"the area of the circle is: {area(shape, radius)}\")\n",
    "elif shape == 'square':\n",
    "    side = float(input(\"enter the length: \"))\n",
    "    print(f\"the area of the square is: {area(shape, side)}\")\n",
    "elif shape == 'rectangle':\n",
    "    length = float(input(\"enter the length: \"))\n",
    "    width = float(input(\"enter the width: \"))\n",
    "    print(f\"the area of the rectangle is: {area(shape, length, width)}\")\n",
    "elif shape == 'triangle':\n",
    "    base = float(input(\"enter the base length: \"))\n",
    "    height = float(input(\"enter the height: \"))\n",
    "    print(f\"the area of the triangle is: {area(shape, base, height)}\")\n",
    "else:\n",
    "    print(\"Unknown shape\")"
   ]
  },
  {
   "cell_type": "code",
   "execution_count": 31,
   "id": "7cbb804e",
   "metadata": {},
   "outputs": [
    {
     "name": "stdout",
     "output_type": "stream",
     "text": [
      "Enter numbers : 1132\n",
      "The sum of all numbers in the list is: 7\n"
     ]
    }
   ],
   "source": [
    "#5. Write a program to find the sum of all numbers in a list.\n",
    "\n",
    "def sum_list(numbers):\n",
    "    total = sum(numbers)\n",
    "    return total\n",
    "\n",
    "numbers = [int(x) for x in input(\"Enter numbers : \")]\n",
    "print(f\"The sum of all numbers in the list is: {sum_list(numbers)}\")"
   ]
  },
  {
   "cell_type": "code",
   "execution_count": 34,
   "id": "ade42795",
   "metadata": {},
   "outputs": [
    {
     "name": "stdout",
     "output_type": "stream",
     "text": [
      "the concatenated tuple: (1, 2, 3, 4, 5, 6)\n",
      "the maximum number: 6\n",
      "the minimum number: 1\n"
     ]
    }
   ],
   "source": [
    "#6. Write a program to concatenate two tuples then get the max and min element.\n",
    "\n",
    "def concatenate_MaxMin_function(tuple1, tuple2):\n",
    "    conc_tuple = tuple1 + tuple2\n",
    "    return conc_tuple, max(conc_tuple), min(conc_tuple)\n",
    "tuple1 = (1,2,3)\n",
    "tuple2 = (4,5,6)\n",
    "\n",
    "conc_tuple, maxNum, minNum = concatenate_MaxMin_function(tuple1, tuple2)\n",
    "print(f\"the concatenated tuple: {conc_tuple}\")\n",
    "print(f\"the maximum number: {maxNum}\")\n",
    "print(f\"the minimum number: {minNum}\")"
   ]
  },
  {
   "cell_type": "code",
   "execution_count": 37,
   "id": "c36a0c74",
   "metadata": {},
   "outputs": [
    {
     "name": "stdout",
     "output_type": "stream",
     "text": [
      "enter the elements of the tuple: 478amr\n",
      "Tuple: ('4', '7', '8', 'a', 'm', 'r'), umeric count: 3\n"
     ]
    }
   ],
   "source": [
    "#7. Write a function that takes tuple as argument and if length of tuple greater than 5, return the count of number elements. Note that the tuple may be with different data types\n",
    "\n",
    "def count_numeric_elements(t):\n",
    "    if len(t) > 5:\n",
    "        numeric_count = 0\n",
    "        for item in t:\n",
    "            if item.replace('.', '', 1).isdigit() and item.count('.') < 2:\n",
    "                numeric_count += 1\n",
    "        return numeric_count\n",
    "    else:\n",
    "        return \"tuple length is not greater than 5\"\n",
    "\n",
    "user_input = input(\"enter the elements of the tuple: \")\n",
    "tuple_elements = tuple(user_input)\n",
    "\n",
    "result = count_numeric_elements(tuple_elements)\n",
    "print(f\"Tuple: {tuple_elements}, numeric count: {result}\")"
   ]
  },
  {
   "cell_type": "code",
   "execution_count": 39,
   "id": "2fc5666c",
   "metadata": {},
   "outputs": [
    {
     "name": "stdout",
     "output_type": "stream",
     "text": [
      "index of the element 30: 2\n"
     ]
    }
   ],
   "source": [
    "#8. Write a function which will able to print a index of list element without using index function.\n",
    "\n",
    "def find_index(lst, element):\n",
    "    for i in range(len(lst)):\n",
    "        if lst[i] == element:\n",
    "            return i\n",
    "    return print(\"not found\")\n",
    "\n",
    "my_list = [10, 20, 30, 40, 50]\n",
    "element = 30\n",
    "\n",
    "index = find_index(my_list, element)\n",
    "if index != -1:\n",
    "    print(f\"index of the element {element}: {index}\")\n",
    "else:\n",
    "    print(f\"element {element} not found in the list\")"
   ]
  },
  {
   "cell_type": "code",
   "execution_count": 41,
   "id": "8c68a74d",
   "metadata": {},
   "outputs": [
    {
     "name": "stdout",
     "output_type": "stream",
     "text": [
      "enter a number: 15\n",
      "enter the start of the range: 10\n",
      "enter the end of the range: 20\n",
      "15 within the range 10 to 20\n"
     ]
    }
   ],
   "source": [
    "#9. Write a Python function to check whether a number falls within a given range.\n",
    "\n",
    "def isin_range(number, start, end):\n",
    "    if start <= number <= end:\n",
    "        return True\n",
    "    else:\n",
    "        return False\n",
    "\n",
    "number = (input(\"enter a number: \"))\n",
    "start = (input(\"enter the start of the range: \"))\n",
    "end = (input(\"enter the end of the range: \"))\n",
    "\n",
    "if isin_range(number, start, end):\n",
    "    print(f\"{number} within the range {start} to {end}\")\n",
    "else:\n",
    "    print(f\"{number} doesn't within the range {start} to {end}\")"
   ]
  },
  {
   "cell_type": "code",
   "execution_count": 47,
   "id": "193a869b",
   "metadata": {},
   "outputs": [
    {
     "name": "stdout",
     "output_type": "stream",
     "text": [
      "enter a number: 7\n",
      "7  prime number\n"
     ]
    }
   ],
   "source": [
    "#10. Write a Python function that takes a number as a parameter and checks whether the number is prime or not.\n",
    "\n",
    "def is_prime(number):\n",
    "    if number <= 1:\n",
    "        return False\n",
    "    for i in range(2, int(number ** 0.5) + 1):\n",
    "        if number % i == 0:\n",
    "            return False\n",
    "    return True\n",
    "\n",
    "number = int(input(\"enter a number: \"))\n",
    "\n",
    "if is_prime(number):\n",
    "    print(f\"{number}  prime number\")\n",
    "else:\n",
    "    print(f\"{number} not a prime number\")"
   ]
  },
  {
   "cell_type": "code",
   "execution_count": 53,
   "id": "abfd8ee1",
   "metadata": {},
   "outputs": [],
   "source": [
    "#11. Write a Python program to calculate the average value of the numbers in a given tuple of tuples.\n",
    "\n",
    "def calculate_averages(tuples):\n",
    "    num_elements = len(tuples[0])\n",
    "    sums = [0] * num_elements\n",
    "    \n",
    "    for tup in tuples:\n",
    "        for i in range(num_elements):\n",
    "            sums[i] += tup[i]\n",
    "    \n",
    "    averages = [s / len(tuples) for s in sums]\n",
    "    return averages"
   ]
  },
  {
   "cell_type": "code",
   "execution_count": 55,
   "id": "b5bad85a",
   "metadata": {},
   "outputs": [
    {
     "name": "stdout",
     "output_type": "stream",
     "text": [
      "the original Tuple:\n",
      "((10, 10, 10, 12), (30, 45, 56, 45), (81, 80, 39, 32), (1, 2, 3, 4))\n",
      "the average value of the numbers of the said tuple of tuples:\n",
      "[30.5, 34.25, 27.0, 23.25]\n"
     ]
    }
   ],
   "source": [
    "tuple_of_tuples = ((10, 10, 10, 12), (30, 45, 56, 45), (81, 80, 39, 32), (1, 2, 3, 4))\n",
    "average_values = calculate_averages(tuple_of_tuples)\n",
    "\n",
    "print(f\"the original Tuple:\\n{tuple_of_tuples}\")\n",
    "print(f\"the average value of the numbers of the said tuple of tuples:\\n{average_values}\")"
   ]
  },
  {
   "cell_type": "code",
   "execution_count": 70,
   "id": "ffeff90e",
   "metadata": {},
   "outputs": [
    {
     "name": "stdout",
     "output_type": "stream",
     "text": [
      "enter the numbers of the list: 9541\n",
      "sorted list: [1, 4, 5, 9]\n"
     ]
    }
   ],
   "source": [
    "#12. Write a Python program to check if a list is empty or not. if not, sort it in increasing order.\n",
    "\n",
    "def sort_list(lst):\n",
    "    if lst:\n",
    "        lst.sort()\n",
    "        print(\"sorted list:\", lst)\n",
    "    else:\n",
    "        print(\"the list is empty.\")\n",
    "\n",
    "\n",
    "user_input = input(\"enter the numbers of the list: \")\n",
    "N = user_input\n",
    "\n",
    "converted_elements = []\n",
    "for element in N:\n",
    "    if element.isdigit():\n",
    "        converted_elements.append(int(element))\n",
    "    else:\n",
    "        converted_elements.append(element)\n",
    "\n",
    "sort_list(converted_elements)"
   ]
  },
  {
   "cell_type": "code",
   "execution_count": 71,
   "id": "0d8de8ec",
   "metadata": {},
   "outputs": [
    {
     "name": "stdout",
     "output_type": "stream",
     "text": [
      "enter the numbers of list 1: 457\n",
      "enter the numbers of list two: 593\n",
      "the two lists have at least one common member.\n"
     ]
    }
   ],
   "source": [
    "#13. Write a Python function that takes two lists and returns True if they have at least one common member.\n",
    "\n",
    "def common_member(list1, list2):\n",
    "    for item in list1:\n",
    "        if item in list2:\n",
    "            return True\n",
    "    return False\n",
    "\n",
    "list1 = input(\"enter the numbers of list 1: \")\n",
    "list2 = input(\"enter the numbers of list two: \")\n",
    "\n",
    "if common_member(list1, list2):\n",
    "    print(\"the two lists have at least one common member.\")\n",
    "else:\n",
    "    print(\"the two lists don't have any common members.\")"
   ]
  },
  {
   "cell_type": "code",
   "execution_count": 82,
   "id": "19164425",
   "metadata": {},
   "outputs": [],
   "source": [
    "#14. Write a Python program to print the numbers of a specified list after removing even numbers from it.\n",
    "\n",
    "def remove_func(lst):\n",
    "    numbers_after_rem = []\n",
    "    for num in lst:\n",
    "        if num % 2 != 0:\n",
    "            numbers_after_rem.append(num)\n",
    "    return numbers_after_rem"
   ]
  },
  {
   "cell_type": "code",
   "execution_count": 83,
   "id": "2909a145",
   "metadata": {},
   "outputs": [
    {
     "name": "stdout",
     "output_type": "stream",
     "text": [
      "enter the numbers of the list: 12879\n",
      "list after remove even numbers: [1, 7, 9]\n"
     ]
    }
   ],
   "source": [
    "user_input = input(\"enter the numbers of the list: \")\n",
    "elements = user_input\n",
    "\n",
    "numbers = []\n",
    "for element in elements:\n",
    "    numbers.append(int(element))\n",
    "\n",
    "numbers_after_rem = remove_func(numbers)\n",
    "print(\"list after remove even numbers:\", numbers_after_rem)"
   ]
  },
  {
   "cell_type": "code",
   "execution_count": null,
   "id": "1757a11c",
   "metadata": {},
   "outputs": [],
   "source": []
  }
 ],
 "metadata": {
  "kernelspec": {
   "display_name": "Python 3 (ipykernel)",
   "language": "python",
   "name": "python3"
  },
  "language_info": {
   "codemirror_mode": {
    "name": "ipython",
    "version": 3
   },
   "file_extension": ".py",
   "mimetype": "text/x-python",
   "name": "python",
   "nbconvert_exporter": "python",
   "pygments_lexer": "ipython3",
   "version": "3.11.7"
  }
 },
 "nbformat": 4,
 "nbformat_minor": 5
}
