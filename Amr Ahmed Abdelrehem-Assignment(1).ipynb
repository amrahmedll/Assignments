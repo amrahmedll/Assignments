{
 "cells": [
  {
   "cell_type": "code",
   "execution_count": 1,
   "id": "40179a2f",
   "metadata": {},
   "outputs": [],
   "source": [
    "#1. Write a program to ask the user to enter number and print the number is odd or even.\n",
    "def ODDorEven(x):\n",
    "    if x%2 == 0:\n",
    "        print (\"this number is even\")\n",
    "    else:\n",
    "        print(\"this number is odd\")"
   ]
  },
  {
   "cell_type": "code",
   "execution_count": 5,
   "id": "e8576cf6",
   "metadata": {},
   "outputs": [
    {
     "name": "stdout",
     "output_type": "stream",
     "text": [
      "enter a number: 10\n",
      "this number is even\n"
     ]
    }
   ],
   "source": [
    "number= int(input(\"enter a number: \"))\n",
    "ODDorEven(number)"
   ]
  },
  {
   "cell_type": "code",
   "execution_count": 29,
   "id": "7a7f7c57",
   "metadata": {},
   "outputs": [],
   "source": [
    "#2. Write a program to find a maximum and a minimum of three numbers or if the numbers are equal to each other, find if the given number is positive or negative.\n",
    "def max_number(x,y,z):  #making a function of a MAXIMUM\n",
    "    if x>y and x>z :\n",
    "        print(\"the maximum number is \",x)\n",
    "    elif y>x and y>z:\n",
    "        print (\"the maximum number is \",y)\n",
    "    elif z>x and z>y:\n",
    "        print(\"the maximum number is \",z)\n",
    "    elif x == y == z:\n",
    "        print(\"the numbers are equal to each other\")\n",
    "        if x>0:\n",
    "            print(\"this number is positive\")\n",
    "        else:\n",
    "            print(\"this number is negative\")  "
   ]
  },
  {
   "cell_type": "code",
   "execution_count": 36,
   "id": "31ef64ed",
   "metadata": {},
   "outputs": [
    {
     "name": "stdout",
     "output_type": "stream",
     "text": [
      "enter the first number: 20\n",
      "enter the second number: 5\n",
      "enter the third number: 102\n",
      "the maximum number is  102\n",
      "the minumum number is  5\n"
     ]
    }
   ],
   "source": [
    "n1= int(input(\"enter the first number: \"))\n",
    "n2= int(input(\"enter the second number: \"))\n",
    "n3= int(input(\"enter the third number: \"))\n",
    "max_number(n1,n2,n3)\n",
    "print (\"the minumum number is \",min(n1,n2,n3)) #using the built-in MINUMUM function"
   ]
  },
  {
   "cell_type": "code",
   "execution_count": 81,
   "id": "766242e0",
   "metadata": {},
   "outputs": [
    {
     "name": "stdout",
     "output_type": "stream",
     "text": [
      "enter a word:amr\n",
      "the vowel postion: [0]\n"
     ]
    }
   ],
   "source": [
    "#3. Write a program to ask from the user a word to check if it contains a vowel character or not. In case having a vowel character print its position. \n",
    "def check_word_vowel(word):\n",
    "    vowels = 'aeiouAEIOU' \n",
    "    positions = []  #using a list\n",
    "    counter = 0  \n",
    "\n",
    "    for char in word:\n",
    "        if char in vowels:\n",
    "            positions.append(counter)  \n",
    "        counter += 1  \n",
    "\n",
    "    if positions:\n",
    "        print(\"the vowel postion:\", positions)\n",
    "    else:\n",
    "        print(\"there is no vowel character\")\n",
    "\n",
    "\n",
    "enterted_word = input(\"enter a word:\")\n",
    "check_word_vowel(enterted_word)"
   ]
  },
  {
   "cell_type": "code",
   "execution_count": 88,
   "id": "ec707af0",
   "metadata": {},
   "outputs": [
    {
     "name": "stdout",
     "output_type": "stream",
     "text": [
      "enter a number: 123456\n",
      "6\n"
     ]
    }
   ],
   "source": [
    "#4. Write a program to display the last digit of a number EX: number =145678 output => 8\n",
    "def last_digit_of_number(number):\n",
    "    return (number) % 10  \n",
    "num = int(input(\"enter a number: \"))\n",
    "print(last_digit_of_number(num))"
   ]
  },
  {
   "cell_type": "code",
   "execution_count": 98,
   "id": "b0f48427",
   "metadata": {},
   "outputs": [
    {
     "name": "stdout",
     "output_type": "stream",
     "text": [
      "enter a number: 6\n",
      "this number is divisbile by both 2 and 3\n"
     ]
    }
   ],
   "source": [
    "#5. Write a program to accept number from user and find if the number is divisible by 2 and 3 both.\n",
    "def check_number_div(number):\n",
    "    if number % 2 == 0 and number % 3 == 0:\n",
    "        print(\"this number is divisbile by both 2 and 3\")\n",
    "    else:\n",
    "        print (\"this number is not divisible by both 2 and 3\")\n",
    "        \n",
    "check_number_div(int(input(\"enter a number: \")))"
   ]
  },
  {
   "cell_type": "code",
   "execution_count": 116,
   "id": "588efa2f",
   "metadata": {},
   "outputs": [
    {
     "name": "stdout",
     "output_type": "stream",
     "text": [
      "enter Total number of working days: 100\n",
      "enter Total number of days for absent: 76\n",
      "student will not be able to sit in exam\n"
     ]
    }
   ],
   "source": [
    "#6. Write a program to accept the following from the user and calculate the percentage of class attended, if the percentage is less than 75, then student will not be able to sit in exam:- Total number of working days - Total number of days for absent\n",
    "n_working=int(input(\"enter Total number of working days: \"))\n",
    "n_absent=int(input(\"enter Total number of days for absent: \"))\n",
    "if (n_absent/n_working)*100 > 75:\n",
    "    print(\"student will not be able to sit in exam\")\n",
    "else:\n",
    "    print(\"student will be able to sit in exam\")"
   ]
  },
  {
   "cell_type": "code",
   "execution_count": 126,
   "id": "0ffe63f4",
   "metadata": {},
   "outputs": [
    {
     "name": "stdout",
     "output_type": "stream",
     "text": [
      "enter your price to get a discount: 8000\n",
      "you got a 15% discount and you need to pay 6800.0\n"
     ]
    }
   ],
   "source": [
    "#7. Write a program to accept market price from the user and calculate the price after discount to pay according to following criteria\n",
    "price=int(input(\"enter your price to get a discount: \"))\n",
    "if price>10000:\n",
    "    price_after_dis=price*0.8\n",
    "    print (\"you got a 20% discount and you need to pay\",price_after_dis)\n",
    "elif price >7000 and price <= 10000:\n",
    "    price_after_dis=price*0.85\n",
    "    print (\"you got a 15% discount and you need to pay\",price_after_dis)\n",
    "else:\n",
    "    price_after_dis=price*0.9\n",
    "    print (\"you got a 10% discount and you need to pay\",price_after_dis)"
   ]
  },
  {
   "cell_type": "code",
   "execution_count": 131,
   "id": "a06d279f",
   "metadata": {},
   "outputs": [
    {
     "name": "stdout",
     "output_type": "stream",
     "text": [
      "enter your word AmrAhmed\n",
      "new word is :  amrahmed\n"
     ]
    }
   ],
   "source": [
    "#8. Given a string, write a python program that convert the string based on the following conditions\n",
    "string=input(\"enter your word \")\n",
    "up_counter = 0\n",
    "low_counter = 0\n",
    "\n",
    "for x in string:\n",
    "    if x.isupper():\n",
    "        up_counter += 1\n",
    "    else:\n",
    "        low_counter += 1\n",
    "        \n",
    "if up_counter > low_counter:\n",
    "    print(\"new word is : \", string.upper())\n",
    "else:\n",
    "    print(\"new word is : \", string.lower())"
   ]
  },
  {
   "cell_type": "code",
   "execution_count": 132,
   "id": "9bef1d38",
   "metadata": {},
   "outputs": [],
   "source": [
    "#(not_solved) 9. Write a program to accept number from the user and check if the given number is palindrome or Armstrong or not."
   ]
  },
  {
   "cell_type": "code",
   "execution_count": 171,
   "id": "39bd2852",
   "metadata": {},
   "outputs": [
    {
     "name": "stdout",
     "output_type": "stream",
     "text": [
      "enter a number: 1780\n",
      "one thousand, seven hundred and eighty\n"
     ]
    }
   ],
   "source": [
    "#(i searched for this function) 10. Write a program to accept number from the user and convert it to words ➢ EX: 124 → One hundred and twenty-four. (Bonus) \n",
    "from num2words import num2words\n",
    "\n",
    "print(num2words(int(input(\"enter a number: \"))))"
   ]
  },
  {
   "cell_type": "code",
   "execution_count": 141,
   "id": "28be062f",
   "metadata": {},
   "outputs": [],
   "source": [
    "#(not_solved) 11. Write a program to find the sum of the following series: 1 + 4 – 9 +16 – 25 + 36 ………..n terms"
   ]
  },
  {
   "cell_type": "code",
   "execution_count": 151,
   "id": "fb715a71",
   "metadata": {},
   "outputs": [
    {
     "name": "stdout",
     "output_type": "stream",
     "text": [
      "enter a string: car of amr\n",
      "The word 'car' appears 1 times.\n",
      "its position is  [0]\n"
     ]
    }
   ],
   "source": [
    "#12. Write a program to count number of “car” word in a string accepted from user and the positions of them. \n",
    "def find(text, word):\n",
    "    start = 0\n",
    "    position = []\n",
    "    counter = 0\n",
    "\n",
    "    while True:\n",
    "        start = text.find(word, start)\n",
    "\n",
    "        if start == -1:\n",
    "            break\n",
    "\n",
    "        position.append(start)\n",
    "        counter += 1\n",
    "        start += len(word)  \n",
    "\n",
    "    return counter, positions\n",
    "\n",
    "word = input(\"enter a string: \")\n",
    "word_to_find = \"car\"\n",
    "count, position = find(word, word_to_find)\n",
    "print(f\"The word 'car' appears {count} times.\")\n",
    "print(\"its position is \",position)"
   ]
  },
  {
   "cell_type": "code",
   "execution_count": 157,
   "id": "14f05d6f",
   "metadata": {},
   "outputs": [
    {
     "name": "stdout",
     "output_type": "stream",
     "text": [
      "enter a word:  LLoLL\n",
      "the string is a palindrome\n"
     ]
    }
   ],
   "source": [
    "#13. Write a program to check whether an input string is palindrome or not.\n",
    "def palindrome(sr):\n",
    "    return sr == sr[::-1]\n",
    "word=input(\"enter a word:  \")\n",
    "\n",
    "if palindrome(word):\n",
    "    print(\"the string is a palindrome\")\n",
    "else:\n",
    "    print(\"the string is not a palindrome\")"
   ]
  },
  {
   "cell_type": "code",
   "execution_count": 168,
   "id": "f4b9b740",
   "metadata": {},
   "outputs": [
    {
     "name": "stdout",
     "output_type": "stream",
     "text": [
      "enter a number: 4\n",
      "1 \n",
      "1 2 \n",
      "1 2 3 \n",
      "1 2 3 4 \n"
     ]
    }
   ],
   "source": [
    "#14. Write a program to print the following pattern -a-\n",
    "n=int(input(\"enter a number: \"))\n",
    "for i in range(1, n + 1):\n",
    "    for j in range(1, i + 1):\n",
    "        print(j, end=' ')\n",
    "    print()"
   ]
  },
  {
   "cell_type": "code",
   "execution_count": 170,
   "id": "133ade37",
   "metadata": {},
   "outputs": [
    {
     "name": "stdout",
     "output_type": "stream",
     "text": [
      "enter a number: 4\n",
      "****\n",
      "***\n",
      "**\n",
      "*\n"
     ]
    }
   ],
   "source": [
    "#14. Write a program to print the following pattern -b-\n",
    "n=int(input(\"enter a number: \"))\n",
    "for x in range(n, 0, -1):\n",
    "    print('*' * x)"
   ]
  },
  {
   "cell_type": "code",
   "execution_count": null,
   "id": "389d8129",
   "metadata": {},
   "outputs": [],
   "source": []
  }
 ],
 "metadata": {
  "kernelspec": {
   "display_name": "Python 3 (ipykernel)",
   "language": "python",
   "name": "python3"
  },
  "language_info": {
   "codemirror_mode": {
    "name": "ipython",
    "version": 3
   },
   "file_extension": ".py",
   "mimetype": "text/x-python",
   "name": "python",
   "nbconvert_exporter": "python",
   "pygments_lexer": "ipython3",
   "version": "3.11.7"
  }
 },
 "nbformat": 4,
 "nbformat_minor": 5
}
